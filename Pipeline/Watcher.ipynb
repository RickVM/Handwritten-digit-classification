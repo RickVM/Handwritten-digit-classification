{
 "cells": [
  {
   "cell_type": "code",
   "execution_count": 17,
   "metadata": {},
   "outputs": [
    {
     "name": "stdout",
     "output_type": "stream",
     "text": [
      "Starting evaluation\n",
      "Loading pipeline\n",
      "pipeline loaded\n"
     ]
    }
   ],
   "source": [
    "from sklearn.externals import joblib\n",
    "\n",
    "print(\"Starting evaluation\")\n",
    "print(\"Loading pipeline\")\n",
    "pipeline = joblib.load(\"pipeline.pkl\")\n",
    "print(\"pipeline loaded\")"
   ]
  },
  {
   "cell_type": "markdown",
   "metadata": {},
   "source": [
    "Get evaluation data"
   ]
  },
  {
   "cell_type": "code",
   "execution_count": 18,
   "metadata": {},
   "outputs": [],
   "source": [
    "import pandas as pd\n",
    "test_df = pd.read_csv(\"test_data.csv\")\n",
    "X = test_df.iloc[:,1:]\n",
    "y = test_df.iloc[:,0]\n",
    "\n",
    "y_pred = pipeline.predict(X)\n",
    "\n"
   ]
  },
  {
   "cell_type": "code",
   "execution_count": 65,
   "metadata": {},
   "outputs": [
    {
     "name": "stdout",
     "output_type": "stream",
     "text": [
      "Test results\n",
      "-------------------------------------------------------------\n",
      "\n",
      "Accuracy: 0.878095238095238%\n",
      "\n",
      "Confusion matrix:\n",
      "[[799   0   3   5   6   5  11   2  13   8]\n",
      " [  0 911   4   6   0  12   4   2  10   1]\n",
      " [ 13   5 722  15  10   2   7   9  12   6]\n",
      " [  9  17  42 704   1  47  10  11  19  22]\n",
      " [  1   8   5   0 701   2  11   2  11  70]\n",
      " [ 16  16  11  18  20 618  16   2  10  20]\n",
      " [  9   5   8   0  14  11 772   0  12   0]\n",
      " [  7   6  19   1   8   5   0 798   3  37]\n",
      " [  3  36  28   8  15  22   6   3 640  41]\n",
      " [  9   5  10   5  41  11   1  38   9 711]]\n"
     ]
    }
   ],
   "source": [
    "from sklearn.metrics import confusion_matrix\n",
    "from sklearn.metrics import accuracy_score\n",
    "cm = confusion_matrix(y, y_pred)\n",
    "accuracy = accuracy_score(y, y_pred)\n",
    "\n",
    "print(\"Test results\\n-------------------------------------------------------------\\n\")\n",
    "results = {\"Accuracy\":accuracy, \"Confusion matrix\":cm.tolist()}\n",
    "print(\"Accuracy: {0}%\\n\".format(accuracy))\n",
    "print(\"Confusion matrix:\")\n",
    "print(cm)"
   ]
  },
  {
   "cell_type": "code",
   "execution_count": 83,
   "metadata": {},
   "outputs": [],
   "source": [
    "import json\n",
    "\n",
    "foundResults = False\n",
    "\n",
    "from pathlib import Path\n",
    "if Path('results.json').exists():\n",
    "    with open('results.json', 'r') as f:\n",
    "        previousResults = json.load(f)\n",
    "    foundResults = True\n",
    "else:\n",
    "    print(\"Warning, did not find any previous results!!\")"
   ]
  },
  {
   "cell_type": "code",
   "execution_count": 76,
   "metadata": {
    "collapsed": true
   },
   "outputs": [],
   "source": [
    "def compareResults(Results, PreviousResults):\n",
    "    print(\"Comparing results\")\n",
    "    if(Results['Accuracy'] >= PreviousResults['Accuracy']):\n",
    "        print(\"\\nModel passed the test.\")\n",
    "        return True\n",
    "    else:\n",
    "        print(\"Model did not pass the test.\")\n",
    "        return False\n",
    "    \n",
    "def modelPassed():\n",
    "    #Save the results as the current model\n",
    "    with open('results.json', 'w') as f:\n",
    "        json.dump(results, f, ensure_ascii=False, sort_keys=True, indent = 4)\n",
    "    #Save the results in version control\n",
    "    with open('./Versions/Pipeline_' + version +'_results.json', 'w') as f:\n",
    "        json.dump(results, f, ensure_ascii=False, sort_keys=True, indent = 4)\n",
    "\n",
    "def modelFailed():  \n",
    "    print(\"Saving results..\")\n",
    "    with open('./Versions/Failed/Pipeline_' + version +'_results.json', 'w') as f:\n",
    "        json.dump(results, f, ensure_ascii=False, sort_keys=True, indent = 4)\n",
    "    print(\"Results saved.\")\n",
    "    import sys\n",
    "    sys.exit(1)"
   ]
  },
  {
   "cell_type": "code",
   "execution_count": 80,
   "metadata": {},
   "outputs": [
    {
     "name": "stdout",
     "output_type": "stream",
     "text": [
      "Deploying model without previous results.\n",
      "\n",
      "Model passed the test.\n"
     ]
    }
   ],
   "source": [
    "import datetime\n",
    "version = str(datetime.datetime.now())\n",
    "\n",
    "if foundResults:\n",
    "    if compareResults(results, previousResults):\n",
    "        modelPassed()\n",
    "    else:\n",
    "        modelFailed()\n",
    "else:\n",
    "    print(\"Deploying model without previous results.\")\n",
    "    modelPassed()"
   ]
  },
  {
   "cell_type": "code",
   "execution_count": null,
   "metadata": {
    "collapsed": true
   },
   "outputs": [],
   "source": []
  }
 ],
 "metadata": {
  "kernelspec": {
   "display_name": "Python 3",
   "language": "python",
   "name": "python3"
  },
  "language_info": {
   "codemirror_mode": {
    "name": "ipython",
    "version": 3
   },
   "file_extension": ".py",
   "mimetype": "text/x-python",
   "name": "python",
   "nbconvert_exporter": "python",
   "pygments_lexer": "ipython3",
   "version": "3.6.4"
  }
 },
 "nbformat": 4,
 "nbformat_minor": 2
}
