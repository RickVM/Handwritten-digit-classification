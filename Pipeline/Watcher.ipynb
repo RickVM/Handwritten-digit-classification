{
 "cells": [
  {
   "cell_type": "code",
   "execution_count": 1,
   "metadata": {},
   "outputs": [
    {
     "name": "stdout",
     "output_type": "stream",
     "text": [
      "\n",
      "Starting evaluation..\n",
      "--------------------------------------\n",
      "\n",
      "Loading pipeline\n",
      "pipeline loaded\n"
     ]
    },
    {
     "name": "stderr",
     "output_type": "stream",
     "text": [
      "Using TensorFlow backend.\n"
     ]
    },
    {
     "name": "stdout",
     "output_type": "stream",
     "text": [
      "Loading model\n",
      "Model loaded\n"
     ]
    }
   ],
   "source": [
    "from sklearn.externals import joblib\n",
    "import dill\n",
    "\n",
    "classicML = False\n",
    "\n",
    "print(\"\\nStarting evaluation..\")\n",
    "print(\"--------------------------------------\\n\")\n",
    "print(\"Loading pipeline\")\n",
    "pipeline = joblib.load(\"pipeline.pkl\")\n",
    "print(\"pipeline loaded\")\n",
    "\n",
    "if classicML == False:\n",
    "    from keras.models import load_model\n",
    "    print(\"Loading model\")\n",
    "    classifier = load_model(\"model.h5\")\n",
    "    print(\"Model loaded\")"
   ]
  },
  {
   "cell_type": "markdown",
   "metadata": {},
   "source": [
    "Get evaluation data"
   ]
  },
  {
   "cell_type": "code",
   "execution_count": 7,
   "metadata": {},
   "outputs": [
    {
     "name": "stdout",
     "output_type": "stream",
     "text": [
      "Running predictions\n"
     ]
    }
   ],
   "source": [
    "import pandas as pd\n",
    "test_df = pd.read_csv(\"test_data.csv\")\n",
    "X = test_df.iloc[:,1:]\n",
    "y = test_df.iloc[:,0]\n",
    "\n",
    "print(\"Running predictions\")\n",
    "if classicML == False:\n",
    "    X = pipeline.transform(X)\n",
    "    y_pred = classifier.predict_classes(X)\n",
    "else:\n",
    "    y_pred = pipeline.predict(X)\n",
    "\n"
   ]
  },
  {
   "cell_type": "code",
   "execution_count": 8,
   "metadata": {},
   "outputs": [
    {
     "data": {
      "text/plain": [
       "array([0, 7, 7, ..., 7, 6, 9])"
      ]
     },
     "execution_count": 8,
     "metadata": {},
     "output_type": "execute_result"
    }
   ],
   "source": [
    "y_pred"
   ]
  },
  {
   "cell_type": "code",
   "execution_count": 9,
   "metadata": {},
   "outputs": [
    {
     "name": "stdout",
     "output_type": "stream",
     "text": [
      "Test results\n",
      "-------------------------------------------------------------\n",
      "\n",
      "Accuracy: 0.9595238095238096%\n",
      "\n",
      "Confusion matrix:\n",
      "[[833   0   2   2   1   1   7   1   4   1]\n",
      " [  0 937   2   1   2   1   1   1   3   2]\n",
      " [  9   0 767   4   6   1   4   6   2   2]\n",
      " [  4   6   8 830   0  11   2   7  10   4]\n",
      " [  4   4   4   0 770   1   4   2   2  20]\n",
      " [  8   2   1  11   5 698   8   2   6   6]\n",
      " [  6   3   4   0   4   6 807   0   1   0]\n",
      " [  2   2   4   3   0   2   0 864   2   5]\n",
      " [  2  11   4   2   4   7   3   0 767   2]\n",
      " [  6   2   2   9  15   3   0  10   6 787]]\n"
     ]
    }
   ],
   "source": [
    "from sklearn.metrics import confusion_matrix\n",
    "from sklearn.metrics import accuracy_score\n",
    "cm = confusion_matrix(y, y_pred)\n",
    "accuracy = accuracy_score(y, y_pred)\n",
    "\n",
    "print(\"Test results\\n-------------------------------------------------------------\\n\")\n",
    "results = {\"Accuracy\":accuracy, \"Confusion matrix\":cm.tolist()} #TODO: Also include used train and test size\n",
    "print(\"Accuracy: {0}%\\n\".format(accuracy))\n",
    "print(\"Confusion matrix:\")\n",
    "print(cm)"
   ]
  },
  {
   "cell_type": "code",
   "execution_count": 4,
   "metadata": {
    "collapsed": true
   },
   "outputs": [],
   "source": [
    "import json\n",
    "\n",
    "foundResults = False\n",
    "\n",
    "from pathlib import Path\n",
    "if Path('results.json').exists():\n",
    "    with open('results.json', 'r') as f:\n",
    "        previousResults = json.load(f)\n",
    "    foundResults = True\n",
    "else:\n",
    "    print(\"Warning, did not find any previous results!!\")"
   ]
  },
  {
   "cell_type": "code",
   "execution_count": 5,
   "metadata": {
    "collapsed": true
   },
   "outputs": [],
   "source": [
    "def compareResults(Results, PreviousResults):\n",
    "    print(\"Comparing results\")\n",
    "    if(Results['Accuracy'] >= PreviousResults['Accuracy']):\n",
    "        print(\"\\nModel passed the test.\")\n",
    "        return True\n",
    "    else:\n",
    "        print(\"Model did not pass the test.\")\n",
    "        return False\n",
    "    \n",
    "def modelPassed():\n",
    "    #Save the results as the current model\n",
    "    with open('results.json', 'w') as f:\n",
    "        json.dump(results, f, ensure_ascii=False, sort_keys=True, indent = 4)\n",
    "    #Save the results in version control\n",
    "    with open('./Versions/Pipeline_' + version +'_results.json', 'w') as f:\n",
    "        json.dump(results, f, ensure_ascii=False, sort_keys=True, indent = 4)\n",
    "\n",
    "def modelFailed():  \n",
    "    print(\"Saving results..\")\n",
    "    with open('./Versions/Failed/Pipeline_' + version +'_results.json', 'w') as f:\n",
    "        json.dump(results, f, ensure_ascii=False, sort_keys=True, indent = 4)\n",
    "    print(\"Results saved.\")\n",
    "    import sys\n",
    "    sys.exit(1)"
   ]
  },
  {
   "cell_type": "code",
   "execution_count": 6,
   "metadata": {},
   "outputs": [
    {
     "name": "stdout",
     "output_type": "stream",
     "text": [
      "Comparing results\n",
      "\n",
      "Model passed the test.\n"
     ]
    }
   ],
   "source": [
    "import datetime\n",
    "version = str(datetime.datetime.now())\n",
    "\n",
    "if foundResults:\n",
    "    if compareResults(results, previousResults):\n",
    "        modelPassed()\n",
    "    else:\n",
    "        modelFailed()\n",
    "else:\n",
    "    print(\"Deploying model without previous results.\")\n",
    "    modelPassed()"
   ]
  }
 ],
 "metadata": {
  "kernelspec": {
   "display_name": "Python 3",
   "language": "python",
   "name": "python3"
  },
  "language_info": {
   "codemirror_mode": {
    "name": "ipython",
    "version": 3
   },
   "file_extension": ".py",
   "mimetype": "text/x-python",
   "name": "python",
   "nbconvert_exporter": "python",
   "pygments_lexer": "ipython3",
   "version": "3.6.4"
  }
 },
 "nbformat": 4,
 "nbformat_minor": 2
}
