{
 "cells": [
  {
   "cell_type": "code",
   "execution_count": 10,
   "metadata": {},
   "outputs": [
    {
     "name": "stdout",
     "output_type": "stream",
     "text": [
      "Starting evaluation\n",
      "Loading model\n",
      "Model loaded\n"
     ]
    }
   ],
   "source": [
    "from sklearn.externals import joblib\n",
    "\n",
    "print(\"Starting evaluation\")\n",
    "print(\"Loading model\")\n",
    "model = joblib.load(\"model.pkl\")\n",
    "print(\"Model loaded\")"
   ]
  },
  {
   "cell_type": "markdown",
   "metadata": {},
   "source": [
    "Get evaluation data"
   ]
  },
  {
   "cell_type": "code",
   "execution_count": 15,
   "metadata": {},
   "outputs": [],
   "source": [
    "import pandas as pd\n",
    "\n",
    "test_df = pd.read_csv(\"test_data.csv\")\n",
    "\n",
    "X = test_df.iloc[:,1:]\n",
    "y = test_df.iloc[:,0]\n",
    "#Temp step, this should be integrated in a seperate 'pre-processing' program\n",
    "#Normalize test data\n",
    "from sklearn.preprocessing import MinMaxScaler\n",
    "scaler = MinMaxScaler(feature_range=(0, 1), copy=True)\n",
    "X = scaler.fit_transform(X)"
   ]
  },
  {
   "cell_type": "code",
   "execution_count": 16,
   "metadata": {},
   "outputs": [
    {
     "name": "stdout",
     "output_type": "stream",
     "text": [
      "Test results\n",
      "-------------------------------------------------------------\n",
      "\n",
      "Accuracy: 0.878095238095238%\n",
      "\n",
      "Confusion matrix:\n",
      "[[799   0   3   5   6   5  11   2  13   8]\n",
      " [  0 911   4   6   0  12   4   2  10   1]\n",
      " [ 13   5 722  15  10   2   7   9  12   6]\n",
      " [  9  17  42 704   1  47  10  11  19  22]\n",
      " [  1   8   5   0 701   2  11   2  11  70]\n",
      " [ 16  16  11  18  20 618  16   2  10  20]\n",
      " [  9   5   8   0  14  11 772   0  12   0]\n",
      " [  7   6  19   1   8   5   0 798   3  37]\n",
      " [  3  36  28   8  15  22   6   3 640  41]\n",
      " [  9   5  10   5  41  11   1  38   9 711]]\n"
     ]
    }
   ],
   "source": [
    "y_pred = model.predict(X)\n",
    "\n",
    "from sklearn.metrics import confusion_matrix\n",
    "from sklearn.metrics import accuracy_score\n",
    "cm = confusion_matrix(y, y_pred)\n",
    "accuracy = accuracy_score(y, y_pred)\n",
    "\n",
    "print(\"Test results\\n-------------------------------------------------------------\\n\")\n",
    "print(\"Accuracy: {0}%\\n\".format(accuracy))\n",
    "print(\"Confusion matrix:\")\n",
    "print(cm)"
   ]
  },
  {
   "cell_type": "code",
   "execution_count": 24,
   "metadata": {},
   "outputs": [
    {
     "name": "stdout",
     "output_type": "stream",
     "text": [
      "Model did not pass the test.\n"
     ]
    },
    {
     "ename": "SystemExit",
     "evalue": "1",
     "output_type": "error",
     "traceback": [
      "An exception has occurred, use %tb to see the full traceback.\n",
      "\u001b[0;31mSystemExit\u001b[0m\u001b[0;31m:\u001b[0m 1\n"
     ]
    },
    {
     "name": "stderr",
     "output_type": "stream",
     "text": [
      "/opt/conda/lib/python3.6/site-packages/IPython/core/interactiveshell.py:2870: UserWarning: To exit: use 'exit', 'quit', or Ctrl-D.\n",
      "  warn(\"To exit: use 'exit', 'quit', or Ctrl-D.\", stacklevel=1)\n"
     ]
    }
   ],
   "source": [
    "if accuracy > 85:\n",
    "    print(\"\\nModel passed the test.\")\n",
    "    returnvalue = 0\n",
    "else:\n",
    "    print(\"Model did not pass the test.\")    \n",
    "    returnvalue = 1\n",
    "import sys\n",
    "sys.exit(returnvalue)"
   ]
  },
  {
   "cell_type": "code",
   "execution_count": null,
   "metadata": {
    "collapsed": true
   },
   "outputs": [],
   "source": []
  }
 ],
 "metadata": {
  "kernelspec": {
   "display_name": "Python 3",
   "language": "python",
   "name": "python3"
  },
  "language_info": {
   "codemirror_mode": {
    "name": "ipython",
    "version": 3
   },
   "file_extension": ".py",
   "mimetype": "text/x-python",
   "name": "python",
   "nbconvert_exporter": "python",
   "pygments_lexer": "ipython3",
   "version": "3.6.4"
  }
 },
 "nbformat": 4,
 "nbformat_minor": 2
}
