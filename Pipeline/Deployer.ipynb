{
 "cells": [
  {
   "cell_type": "code",
   "execution_count": 35,
   "metadata": {},
   "outputs": [
    {
     "name": "stdout",
     "output_type": "stream",
     "text": [
      "2018-03-14 15:45:08.990317\n",
      "Loading model..\n",
      "Saving model in version control..\n",
      "Saving model in production..\n",
      "Model deployed\n"
     ]
    }
   ],
   "source": [
    "from sklearn.externals import joblib\n",
    "import os\n",
    "import pathlib\n",
    "import datetime\n",
    "\n",
    "version = str(datetime.datetime.now())\n",
    "print(version)\n",
    "print(\"Loading model..\")\n",
    "model = joblib.load(\"model.pkl\")\n",
    "\n",
    "print(\"Saving model in version control..\")\n",
    "joblib.dump(model, \"./versions/model_\"+ version +\".pkl\")\n",
    "     \n",
    "print(\"Saving model in production..\")\n",
    "joblib.dump(model, \"Production/model.pkl\")\n",
    "print(\"Model deployed\")"
   ]
  },
  {
   "cell_type": "code",
   "execution_count": null,
   "metadata": {
    "collapsed": true
   },
   "outputs": [],
   "source": []
  },
  {
   "cell_type": "code",
   "execution_count": null,
   "metadata": {
    "collapsed": true
   },
   "outputs": [],
   "source": []
  }
 ],
 "metadata": {
  "kernelspec": {
   "display_name": "Python 3",
   "language": "python",
   "name": "python3"
  },
  "language_info": {
   "codemirror_mode": {
    "name": "ipython",
    "version": 3
   },
   "file_extension": ".py",
   "mimetype": "text/x-python",
   "name": "python",
   "nbconvert_exporter": "python",
   "pygments_lexer": "ipython3",
   "version": "3.6.4"
  }
 },
 "nbformat": 4,
 "nbformat_minor": 2
}
