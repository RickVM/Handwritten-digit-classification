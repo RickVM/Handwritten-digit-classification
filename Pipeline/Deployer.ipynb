{
 "cells": [
  {
   "cell_type": "code",
   "execution_count": 26,
   "metadata": {},
   "outputs": [
    {
     "name": "stdout",
     "output_type": "stream",
     "text": [
      "\n",
      "Deployer started\n",
      "--------------------------------------\n",
      "\n",
      "2018-03-23 12:18:32.811609\n"
     ]
    }
   ],
   "source": [
    "from sklearn.externals import joblib\n",
    "import dill\n",
    "\n",
    "import os\n",
    "import pathlib\n",
    "import datetime\n",
    "\n",
    "version = str(datetime.datetime.now())\n",
    "\n",
    "print(\"\\nDeployer started\")\n",
    "print(\"--------------------------------------\\n\")\n",
    "print(version)\n",
    "classicML = True\n",
    "pipeline_name = 'pipeline'\n",
    "model_name = 'model'"
   ]
  },
  {
   "cell_type": "code",
   "execution_count": 27,
   "metadata": {
    "collapsed": true
   },
   "outputs": [],
   "source": [
    "def savePipeline():\n",
    "    print(\"Loading pipeline\")\n",
    "    pipeline = joblib.load(\"pipeline.pkl\")\n",
    "    print(\"pipeline loaded\")\n",
    "    print(\"Saving pipeline in version control..\")      \n",
    "    joblib.dump(pipeline, \"./versions/\"+ pipeline_name + version +\".pkl\")\n",
    "    print(\"Saving pipeline in production..\")\n",
    "    joblib.dump(pipeline, \"Production/\"+ pipeline_name + \".pkl\")\n",
    "    print(\"pipeline deployed\")\n",
    "\n",
    "def saveDeepModel():\n",
    "    from keras.models import load_model\n",
    "    print(\"Loading model\")\n",
    "    classifier = load_model(\"model.h5\")\n",
    "    print(\"Model loaded\")\n",
    "    print(\"Saving model in version control..\")\n",
    "    classifier.save('versions/'+ model_name + version + '.h5')\n",
    "    print(\"Model saved in version control\")\n",
    "    print(\"Saving model in production..\")\n",
    "    classifier.save('Production/' + model_name + '.h5')\n",
    "    print(\"Model saved in production.\")"
   ]
  },
  {
   "cell_type": "code",
   "execution_count": 28,
   "metadata": {},
   "outputs": [
    {
     "name": "stdout",
     "output_type": "stream",
     "text": [
      "Loading pipeline\n",
      "pipeline loaded\n",
      "Saving pipeline in version control..\n",
      "Saving pipeline in production..\n",
      "pipeline deployed\n",
      "Loading model\n",
      "Model loaded\n",
      "Saving model in version control..\n",
      "Model saved in version control\n",
      "Saving model in production..\n",
      "Model saved in production.\n"
     ]
    }
   ],
   "source": [
    "savePipeline()\n",
    "if classicML == False:\n",
    "    saveDeepModel()"
   ]
  },
  {
   "cell_type": "code",
   "execution_count": null,
   "metadata": {
    "collapsed": true
   },
   "outputs": [],
   "source": []
  },
  {
   "cell_type": "code",
   "execution_count": null,
   "metadata": {
    "collapsed": true
   },
   "outputs": [],
   "source": []
  }
 ],
 "metadata": {
  "kernelspec": {
   "display_name": "Python 3",
   "language": "python",
   "name": "python3"
  },
  "language_info": {
   "codemirror_mode": {
    "name": "ipython",
    "version": 3
   },
   "file_extension": ".py",
   "mimetype": "text/x-python",
   "name": "python",
   "nbconvert_exporter": "python",
   "pygments_lexer": "ipython3",
   "version": "3.6.4"
  }
 },
 "nbformat": 4,
 "nbformat_minor": 2
}
