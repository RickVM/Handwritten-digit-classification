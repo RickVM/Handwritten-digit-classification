{
 "cells": [
  {
   "cell_type": "code",
   "execution_count": 1,
   "metadata": {},
   "outputs": [
    {
     "name": "stdout",
     "output_type": "stream",
     "text": [
      "2018-03-15 13:43:21.542997\n",
      "Loading pipeline..\n",
      "Saving pipeline in version control..\n",
      "Saving pipeline in production..\n",
      "pipeline deployed\n"
     ]
    }
   ],
   "source": [
    "from sklearn.externals import joblib\n",
    "import os\n",
    "import pathlib\n",
    "import datetime\n",
    "\n",
    "version = str(datetime.datetime.now())\n",
    "print(version)\n",
    "print(\"Loading pipeline..\")\n",
    "model = joblib.load(\"pipeline.pkl\")\n",
    "\n",
    "print(\"Saving pipeline in version control..\")\n",
    "joblib.dump(model, \"./versions/Pipeline\"+ version +\".pkl\")\n",
    "     \n",
    "print(\"Saving pipeline in production..\")\n",
    "joblib.dump(model, \"Production/pipeline.pkl\")\n",
    "print(\"pipeline deployed\")"
   ]
  },
  {
   "cell_type": "code",
   "execution_count": null,
   "metadata": {
    "collapsed": true
   },
   "outputs": [],
   "source": []
  },
  {
   "cell_type": "code",
   "execution_count": null,
   "metadata": {
    "collapsed": true
   },
   "outputs": [],
   "source": []
  }
 ],
 "metadata": {
  "kernelspec": {
   "display_name": "Python 3",
   "language": "python",
   "name": "python3"
  },
  "language_info": {
   "codemirror_mode": {
    "name": "ipython",
    "version": 3
   },
   "file_extension": ".py",
   "mimetype": "text/x-python",
   "name": "python",
   "nbconvert_exporter": "python",
   "pygments_lexer": "ipython3",
   "version": "3.6.4"
  }
 },
 "nbformat": 4,
 "nbformat_minor": 2
}
