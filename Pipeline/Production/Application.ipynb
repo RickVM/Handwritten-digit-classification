{
 "cells": [
  {
   "cell_type": "code",
   "execution_count": 19,
   "metadata": {},
   "outputs": [
    {
     "name": "stdout",
     "output_type": "stream",
     "text": [
      "Starting application..\n",
      "Loading pipeline..\n",
      "pipeline successfully loaded\n",
      "Running predictions\n"
     ]
    },
    {
     "data": {
      "text/plain": [
       "array([2, 0, 9, ..., 3, 9, 2])"
      ]
     },
     "execution_count": 19,
     "metadata": {},
     "output_type": "execute_result"
    }
   ],
   "source": [
    "from sklearn.externals import joblib\n",
    "\n",
    "print(\"Starting application..\")\n",
    "print(\"Loading pipeline..\")\n",
    "pipeline = joblib.load(\"pipeline.pkl\")\n",
    "print(\"pipeline successfully loaded\")\n",
    "\n",
    "import pandas as pd\n",
    "test_df = pd.read_csv(\"../../Test.csv\")\n",
    "\n",
    "X = test_df.iloc[:,:]\n",
    "\n",
    "print(\"Running predictions\")\n",
    "predictions = pipeline.predict(X)"
   ]
  },
  {
   "cell_type": "code",
   "execution_count": 17,
   "metadata": {
    "collapsed": true
   },
   "outputs": [],
   "source": [
    "#predictions = model.predict()"
   ]
  },
  {
   "cell_type": "code",
   "execution_count": 18,
   "metadata": {},
   "outputs": [
    {
     "name": "stdout",
     "output_type": "stream",
     "text": [
      "Predictions saved as Results.csv\n"
     ]
    }
   ],
   "source": [
    "length = len(predictions)\n",
    "ImageIds = []\n",
    "for i in range(length):\n",
    "    ImageIds.append(i+1)\n",
    "    \n",
    "data_to_submit = pd.DataFrame({'ImageId':ImageIds,\n",
    "                               'Label':predictions})\n",
    "data_to_submit.to_csv(\"Results.csv\", index = False)\n",
    "print(\"Predictions saved as Results.csv\")"
   ]
  },
  {
   "cell_type": "code",
   "execution_count": null,
   "metadata": {
    "collapsed": true
   },
   "outputs": [],
   "source": []
  }
 ],
 "metadata": {
  "kernelspec": {
   "display_name": "Python 3",
   "language": "python",
   "name": "python3"
  },
  "language_info": {
   "codemirror_mode": {
    "name": "ipython",
    "version": 3
   },
   "file_extension": ".py",
   "mimetype": "text/x-python",
   "name": "python",
   "nbconvert_exporter": "python",
   "pygments_lexer": "ipython3",
   "version": "3.6.4"
  }
 },
 "nbformat": 4,
 "nbformat_minor": 2
}
