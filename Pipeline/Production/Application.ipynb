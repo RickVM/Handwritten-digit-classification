{
 "cells": [
  {
   "cell_type": "code",
   "execution_count": 8,
   "metadata": {},
   "outputs": [
    {
     "name": "stdout",
     "output_type": "stream",
     "text": [
      "Starting application..\n",
      "Loading pipeline..\n",
      "pipeline successfully loaded\n",
      "Running predictions..\n",
      "Predictions made.\n"
     ]
    }
   ],
   "source": [
    "from sklearn.externals import joblib\n",
    "\n",
    "print(\"Starting application..\")\n",
    "print(\"--------------------------------------\\n\")\n",
    "print(\"Loading pipeline..\")\n",
    "pipeline = joblib.load(\"pipeline.pkl\")\n",
    "print(\"pipeline successfully loaded\")\n",
    "\n",
    "import pandas as pd\n",
    "test_df = pd.read_csv(\"./Production/Test.csv\") #Relative path from ../ as this program is called from there, change if running local\n",
    "\n",
    "X = test_df.iloc[:,:]\n",
    "\n",
    "print(\"Running predictions..\")\n",
    "predictions = pipeline.predict(X)\n",
    "print(\"Predictions made.\")"
   ]
  },
  {
   "cell_type": "code",
   "execution_count": 17,
   "metadata": {
    "collapsed": true
   },
   "outputs": [],
   "source": [
    "#predictions = model.predict()"
   ]
  },
  {
   "cell_type": "code",
   "execution_count": 16,
   "metadata": {},
   "outputs": [
    {
     "name": "stdout",
     "output_type": "stream",
     "text": [
      "Predictions saved as Results.csv\n",
      "b\"Warning: Your Kaggle API key is readable by other users on this system! To fix this, you can run 'chmod 600 /root/.kaggle/kaggle.json'\\n\"\n",
      "Predictions submitted to kaggle\n"
     ]
    }
   ],
   "source": [
    "length = len(predictions)\n",
    "ImageIds = []\n",
    "for i in range(length):\n",
    "    ImageIds.append(i+1)\n",
    "    \n",
    "data_to_submit = pd.DataFrame({'ImageId':ImageIds,\n",
    "                               'Label':predictions})\n",
    "data_to_submit.to_csv(\"Results.csv\", index = False)\n",
    "print(\"Predictions saved as Results.csv\")\n",
    "\n",
    "import subprocess\n",
    "\n",
    "command = \"kaggle competitions submit -c digit-recognizer -f ./Production/Results.csv -m \\\"XGBoost_with_scaling_amount_of_training_data\\\"\"\n",
    "\n",
    "#process = subprocess.Popen(command.split(), stdout=subprocess.PIPE)\n",
    "#output, error = process.communicate()\n",
    "print(output)\n",
    "print(\"Predictions submitted to kaggle\")"
   ]
  },
  {
   "cell_type": "code",
   "execution_count": null,
   "metadata": {},
   "outputs": [],
   "source": []
  },
  {
   "cell_type": "code",
   "execution_count": 3,
   "metadata": {
    "collapsed": true
   },
   "outputs": [],
   "source": [
    "#Use these commands after initiating docker to setup the tools required for kaggle api usage\n",
    "#!pip install kaggle\n",
    "#!cp ./kaggle.json /root/.kaggle/kaggle.json"
   ]
  },
  {
   "cell_type": "code",
   "execution_count": null,
   "metadata": {
    "collapsed": true
   },
   "outputs": [],
   "source": []
  }
 ],
 "metadata": {
  "kernelspec": {
   "display_name": "Python 3",
   "language": "python",
   "name": "python3"
  },
  "language_info": {
   "codemirror_mode": {
    "name": "ipython",
    "version": 3
   },
   "file_extension": ".py",
   "mimetype": "text/x-python",
   "name": "python",
   "nbconvert_exporter": "python",
   "pygments_lexer": "ipython3",
   "version": "3.6.4"
  }
 },
 "nbformat": 4,
 "nbformat_minor": 2
}
