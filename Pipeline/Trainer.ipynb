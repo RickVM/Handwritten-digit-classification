{
 "cells": [
  {
   "cell_type": "code",
   "execution_count": 1,
   "metadata": {
    "collapsed": true
   },
   "outputs": [],
   "source": [
    "import numpy as np\n",
    "import pandas as pd\n",
    "\n",
    "train_df = pd.read_csv(\"data.csv\")"
   ]
  },
  {
   "cell_type": "markdown",
   "metadata": {},
   "source": [
    "By creating a pipeline we can run one line of code to pre-process our data and train our model.\n",
    "Later on this pipeline will also enable us to only need 1 line of code to pre-process and make predictions on new data.\n",
    "Hence the code will be a lot cleaner.\n",
    "\n",
    "Pipeline.steps can be called to view the all the components and parameters that make up the pipeline."
   ]
  },
  {
   "cell_type": "code",
   "execution_count": 4,
   "metadata": {},
   "outputs": [
    {
     "name": "stdout",
     "output_type": "stream",
     "text": [
      "\n",
      "\n",
      "Starting model training..\n",
      "--------------------------------------\n",
      "\n",
      "Finished training.\n"
     ]
    },
    {
     "data": {
      "text/plain": [
       "[('minmaxscaler', MinMaxScaler(copy=True, feature_range=(0, 1))),\n",
       " ('XgbClassifier',\n",
       "  XGBClassifier(base_score=0.5, booster='gbtree', colsample_bylevel=1,\n",
       "         colsample_bytree=1, gamma=0, learning_rate=0.1, max_delta_step=0,\n",
       "         max_depth=3, min_child_weight=1, missing=None, n_estimators=100,\n",
       "         n_jobs=1, nthread=None, objective='multi:softprob', random_state=0,\n",
       "         reg_alpha=0, reg_lambda=1, scale_pos_weight=1, seed=None,\n",
       "         silent=True, subsample=1))]"
      ]
     },
     "execution_count": 4,
     "metadata": {},
     "output_type": "execute_result"
    }
   ],
   "source": [
    "X = train_df.iloc[:,1:]\n",
    "y = train_df.iloc[:,0]\n",
    "\n",
    "from sklearn.pipeline import Pipeline\n",
    "from sklearn.preprocessing import MinMaxScaler\n",
    "from sklearn.base import BaseEstimator, TransformerMixin\n",
    "import xgboost as xgb\n",
    "from xgboost import XGBClassifier\n",
    "\n",
    "pipeline = Pipeline(steps=[('minmaxscaler', MinMaxScaler(feature_range=(0, 1), copy=True)),\n",
    "                            ('XgbClassifier', XGBClassifier(objective = 'multi:softmax'))\n",
    "                           ])\n",
    "print(\"\\n\\nStarting model training..\")\n",
    "print(\"--------------------------------------\\n\")\n",
    "pipeline = pipeline.fit(X, y)\n",
    "print(\"Finished training.\")\n",
    "pipeline.steps"
   ]
  },
  {
   "cell_type": "markdown",
   "metadata": {},
   "source": [
    "Then we train our model"
   ]
  },
  {
   "cell_type": "markdown",
   "metadata": {},
   "source": [
    "We dont evaluate the model as this is up to the watcher, thus we save it now."
   ]
  },
  {
   "cell_type": "code",
   "execution_count": 3,
   "metadata": {},
   "outputs": [
    {
     "name": "stdout",
     "output_type": "stream",
     "text": [
      "Pipeline has been saved as pipeline.pkl\n"
     ]
    }
   ],
   "source": [
    "from sklearn.externals import joblib\n",
    "joblib.dump(pipeline, \"pipeline.pkl\")\n",
    "print(\"Pipeline has been saved as pipeline.pkl\")"
   ]
  },
  {
   "cell_type": "code",
   "execution_count": null,
   "metadata": {
    "collapsed": true
   },
   "outputs": [],
   "source": []
  }
 ],
 "metadata": {
  "kernelspec": {
   "display_name": "Python 3",
   "language": "python",
   "name": "python3"
  },
  "language_info": {
   "codemirror_mode": {
    "name": "ipython",
    "version": 3
   },
   "file_extension": ".py",
   "mimetype": "text/x-python",
   "name": "python",
   "nbconvert_exporter": "python",
   "pygments_lexer": "ipython3",
   "version": "3.6.4"
  }
 },
 "nbformat": 4,
 "nbformat_minor": 2
}
