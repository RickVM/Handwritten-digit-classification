{
 "cells": [
  {
   "cell_type": "code",
   "execution_count": 1,
   "metadata": {},
   "outputs": [
    {
     "name": "stdout",
     "output_type": "stream",
     "text": [
      "\n",
      "\n",
      "Starting model training..\n",
      "--------------------------------------\n",
      "\n"
     ]
    }
   ],
   "source": [
    "import numpy as np\n",
    "import pandas as pd\n",
    "\n",
    "classicML = False #Used in saving process \n",
    "\n",
    "print(\"\\n\\nStarting model training..\")\n",
    "print(\"--------------------------------------\\n\")\n",
    "train_df = pd.read_csv(\"data.csv\")\n",
    "X = train_df.iloc[:,1:]\n",
    "y = train_df.iloc[:,0]"
   ]
  },
  {
   "cell_type": "code",
   "execution_count": 12,
   "metadata": {
    "collapsed": true
   },
   "outputs": [],
   "source": [
    "from sklearn.pipeline import Pipeline\n",
    "from sklearn.preprocessing import MinMaxScaler\n",
    "\n",
    "if classicML:\n",
    "    # XGBoost Code\n",
    "    import xgboost as xgb\n",
    "    from xgboost import XGBClassifier\n",
    "    #Default settings - Now deprecated with optimized settings. \n",
    "    #pipeline = Pipeline(steps=[('minmaxscaler', MinMaxScaler(feature_range=(0, 1), copy=True)),\n",
    "    #                            ('XgbClassifier', XGBClassifier(objective = 'multi:softmax'))\n",
    "    #                           ])\n",
    "    #Based upon random search results.\n",
    "    #Accuracy score was 91% on 20% of the training data.\n",
    "    pipeline = Pipeline(steps=[('minmaxscaler', MinMaxScaler(feature_range=(0, 1), copy=True)),\n",
    "                               ('XgbClassifier', XGBClassifier(objective = 'multi:softmax',\n",
    "                                                               gamma = 0.9,\n",
    "                                                               learning_rate = 0.375,\n",
    "                                                               max_depth = 9,\n",
    "                                                               n_estimators = 9))])\n",
    "\n",
    "else:\n",
    "    pipeline = Pipeline(steps=[('minmaxscaler', MinMaxScaler(feature_range=(0, 1), copy=True))  ])\n",
    "\n",
    "    from keras.models import Model\n",
    "    from keras.models import Sequential\n",
    "    from keras.layers import Input, Dense\n",
    "    from keras.losses import sparse_categorical_crossentropy\n",
    "    from keras.optimizers import SGD\n",
    "    def create_model():\n",
    "        model = Sequential()\n",
    "        #units = (Input+Output)/2\n",
    "        model.add(Dense(units = (int(round(len(X.columns)+9)/2)), activation = 'relu', input_dim= len(X.columns))) \n",
    "        model.add(Dense(10, activation = 'softmax'))\n",
    "        model.compile(loss=sparse_categorical_crossentropy,\n",
    "                      optimizer='adam', metrics = ['accuracy'])\n",
    "        #SGD(lr=0.01, momentum=0.9, nesterov=True)\n",
    "        return model\n",
    "    classifier = create_model()"
   ]
  },
  {
   "cell_type": "markdown",
   "metadata": {},
   "source": [
    "By creating a pipeline we can run one line of code to pre-process our data and train our model.\n",
    "Later on this pipeline will also enable us to only need 1 line of code to pre-process and make predictions on new data.\n",
    "Hence the code will be a lot cleaner.\n",
    "\n",
    "Pipeline.steps can be called to view the all the components and parameters that make up the pipeline."
   ]
  },
  {
   "cell_type": "code",
   "execution_count": null,
   "metadata": {
    "collapsed": true
   },
   "outputs": [],
   "source": [
    "# Random search code\n",
    "\n",
    "# X = train_df.iloc[:,1:]\n",
    "# y = train_df.iloc[:,0]\n",
    "\n",
    "# from scipy.stats import randint\n",
    "# import scipy\n",
    "# from sklearn.pipeline import Pipeline\n",
    "# from sklearn.preprocessing import MinMaxScaler\n",
    "# from sklearn.base import BaseEstimator, TransformerMixin\n",
    "# import xgboost as xgb\n",
    "# from xgboost import XGBClassifier\n",
    "# from sklearn.model_selection import RandomizedSearchCV\n",
    "\n",
    "# scaler = MinMaxScaler(feature_range=(0,1), copy=True)\n",
    "# X = scaler.fit_transform(X)\n",
    "\n",
    "# params = {'max_depth': randint(1, 10) ,\n",
    "#           'learning_rate': scipy.stats.expon(scale=0.5),\n",
    "#           'n_estimators': randint(1, 10),\n",
    "#           'gamma': scipy.stats.expon(scale=1)\n",
    "#            }\n",
    "\n",
    "\n",
    "# import datetime\n",
    "# print(\"\\n\\nStarting parameter search..\")\n",
    "# print(\"--------------------------------------\\n\")\n",
    "# tstart = datetime.datetime.now()\n",
    "# optimizer = RandomizedSearchCV(XGBClassifier(objective = 'multi:softmax'), params, n_iter = 25)\n",
    "# optimizer.fit(X, y)\n",
    "# tstop = datetime.datetime.now()\n",
    "# tdelta = tstop - tstart\n",
    "# print(\"Finished training.\")\n",
    "# print(\"Training duration in (Days/Hours/Seconds/Milliseconds): {0}\".format(tdelta)) \n",
    "# print(optimizer.score()) #0.91130952380952379\n",
    "# print(optimizer.best_params_) #{'gamma': 0.90390078036156596,\n",
    "#                               #'learning_rate': 0.37483528867120858,\n",
    "#                               #'max_depth': 9,\n",
    "#                               #'n_estimators': 9}"
   ]
  },
  {
   "cell_type": "code",
   "execution_count": 9,
   "metadata": {},
   "outputs": [
    {
     "name": "stdout",
     "output_type": "stream",
     "text": [
      "Train on 7560 samples, validate on 840 samples\n",
      "Epoch 1/50\n",
      "7560/7560 [==============================] - 1s 82us/step - loss: 0.0023 - acc: 0.9995 - val_loss: 0.2159 - val_acc: 0.9571\n",
      "Epoch 2/50\n",
      "7560/7560 [==============================] - 1s 73us/step - loss: 0.0022 - acc: 0.9995 - val_loss: 0.2140 - val_acc: 0.9560\n",
      "Epoch 3/50\n",
      "7560/7560 [==============================] - 1s 82us/step - loss: 0.0022 - acc: 0.9995 - val_loss: 0.2144 - val_acc: 0.9571\n",
      "Epoch 4/50\n",
      "7560/7560 [==============================] - 1s 74us/step - loss: 0.0021 - acc: 0.9995 - val_loss: 0.2142 - val_acc: 0.9571\n",
      "Epoch 5/50\n",
      "7560/7560 [==============================] - 1s 83us/step - loss: 0.0021 - acc: 0.9995 - val_loss: 0.2152 - val_acc: 0.9560\n",
      "Epoch 6/50\n",
      "7560/7560 [==============================] - 1s 73us/step - loss: 0.0021 - acc: 0.9995 - val_loss: 0.2166 - val_acc: 0.9560\n",
      "Epoch 7/50\n",
      "7560/7560 [==============================] - 1s 78us/step - loss: 0.0020 - acc: 0.9995 - val_loss: 0.2144 - val_acc: 0.9560\n",
      "Epoch 8/50\n",
      "7560/7560 [==============================] - 1s 73us/step - loss: 0.0020 - acc: 0.9995 - val_loss: 0.2172 - val_acc: 0.9583\n",
      "Epoch 9/50\n",
      "7560/7560 [==============================] - 1s 81us/step - loss: 0.0019 - acc: 0.9995 - val_loss: 0.2151 - val_acc: 0.9571\n",
      "Epoch 10/50\n",
      "7560/7560 [==============================] - 1s 73us/step - loss: 0.0019 - acc: 0.9995 - val_loss: 0.2170 - val_acc: 0.9571\n",
      "Epoch 11/50\n",
      "7560/7560 [==============================] - 1s 72us/step - loss: 0.0019 - acc: 0.9995 - val_loss: 0.2171 - val_acc: 0.9560\n",
      "Epoch 12/50\n",
      "7560/7560 [==============================] - 1s 73us/step - loss: 0.0019 - acc: 0.9995 - val_loss: 0.2170 - val_acc: 0.9571\n",
      "Epoch 13/50\n",
      "7560/7560 [==============================] - 1s 76us/step - loss: 0.0018 - acc: 0.9995 - val_loss: 0.2176 - val_acc: 0.9560\n",
      "Epoch 14/50\n",
      "7560/7560 [==============================] - 1s 75us/step - loss: 0.0018 - acc: 0.9995 - val_loss: 0.2173 - val_acc: 0.9583\n",
      "Epoch 15/50\n",
      "7560/7560 [==============================] - 1s 70us/step - loss: 0.0018 - acc: 0.9995 - val_loss: 0.2182 - val_acc: 0.9548\n",
      "Epoch 16/50\n",
      "7560/7560 [==============================] - 1s 73us/step - loss: 0.0018 - acc: 0.9995 - val_loss: 0.2180 - val_acc: 0.9571\n",
      "Epoch 17/50\n",
      "7560/7560 [==============================] - 1s 73us/step - loss: 0.0018 - acc: 0.9995 - val_loss: 0.2199 - val_acc: 0.9583\n",
      "Epoch 18/50\n",
      "7560/7560 [==============================] - 1s 82us/step - loss: 0.0017 - acc: 0.9995 - val_loss: 0.2179 - val_acc: 0.9571\n",
      "Epoch 19/50\n",
      "7560/7560 [==============================] - 1s 67us/step - loss: 0.0017 - acc: 0.9995 - val_loss: 0.2196 - val_acc: 0.9571\n",
      "Epoch 20/50\n",
      "7560/7560 [==============================] - 1s 71us/step - loss: 0.0017 - acc: 0.9995 - val_loss: 0.2199 - val_acc: 0.9571\n",
      "Epoch 21/50\n",
      "7560/7560 [==============================] - 1s 78us/step - loss: 0.0017 - acc: 0.9995 - val_loss: 0.2200 - val_acc: 0.9583\n",
      "Epoch 22/50\n",
      "7560/7560 [==============================] - 1s 78us/step - loss: 0.0017 - acc: 0.9995 - val_loss: 0.2195 - val_acc: 0.9571\n",
      "Epoch 23/50\n",
      "7560/7560 [==============================] - 1s 88us/step - loss: 0.0016 - acc: 0.9995 - val_loss: 0.2208 - val_acc: 0.9583\n",
      "Epoch 24/50\n",
      "7560/7560 [==============================] - 1s 77us/step - loss: 0.0016 - acc: 0.9995 - val_loss: 0.2205 - val_acc: 0.9571\n",
      "Epoch 25/50\n",
      "7560/7560 [==============================] - 1s 73us/step - loss: 0.0016 - acc: 0.9995 - val_loss: 0.2212 - val_acc: 0.9571\n",
      "Epoch 26/50\n",
      "7560/7560 [==============================] - 1s 71us/step - loss: 0.0016 - acc: 0.9995 - val_loss: 0.2213 - val_acc: 0.9583\n",
      "Epoch 27/50\n",
      "7560/7560 [==============================] - 1s 76us/step - loss: 0.0016 - acc: 0.9995 - val_loss: 0.2222 - val_acc: 0.9583\n",
      "Epoch 28/50\n",
      "7560/7560 [==============================] - 1s 74us/step - loss: 0.0016 - acc: 0.9995 - val_loss: 0.2210 - val_acc: 0.9583\n",
      "Epoch 29/50\n",
      "7560/7560 [==============================] - 1s 73us/step - loss: 0.0016 - acc: 0.9995 - val_loss: 0.2227 - val_acc: 0.9571\n",
      "Epoch 30/50\n",
      "7560/7560 [==============================] - 1s 73us/step - loss: 0.0015 - acc: 0.9995 - val_loss: 0.2240 - val_acc: 0.9583\n",
      "Epoch 31/50\n",
      "7560/7560 [==============================] - 1s 71us/step - loss: 0.0015 - acc: 0.9995 - val_loss: 0.2223 - val_acc: 0.9571\n",
      "Epoch 32/50\n",
      "7560/7560 [==============================] - 1s 74us/step - loss: 0.0015 - acc: 0.9995 - val_loss: 0.2240 - val_acc: 0.9571\n",
      "Epoch 33/50\n",
      "7560/7560 [==============================] - 1s 74us/step - loss: 0.0015 - acc: 0.9995 - val_loss: 0.2231 - val_acc: 0.9571\n",
      "Epoch 34/50\n",
      "7560/7560 [==============================] - 1s 72us/step - loss: 0.0015 - acc: 0.9995 - val_loss: 0.2239 - val_acc: 0.9571\n",
      "Epoch 35/50\n",
      "7560/7560 [==============================] - 1s 73us/step - loss: 0.0015 - acc: 0.9995 - val_loss: 0.2260 - val_acc: 0.9583\n",
      "Epoch 36/50\n",
      "7560/7560 [==============================] - 1s 75us/step - loss: 0.0015 - acc: 0.9995 - val_loss: 0.2253 - val_acc: 0.9583\n",
      "Epoch 37/50\n",
      "7560/7560 [==============================] - 1s 80us/step - loss: 0.0015 - acc: 0.9995 - val_loss: 0.2275 - val_acc: 0.9583\n",
      "Epoch 38/50\n",
      "7560/7560 [==============================] - 1s 71us/step - loss: 0.0015 - acc: 0.9995 - val_loss: 0.2253 - val_acc: 0.9583\n",
      "Epoch 39/50\n",
      "7560/7560 [==============================] - 1s 72us/step - loss: 0.0014 - acc: 0.9995 - val_loss: 0.2260 - val_acc: 0.9560\n",
      "Epoch 40/50\n",
      "7560/7560 [==============================] - 1s 72us/step - loss: 0.0014 - acc: 0.9995 - val_loss: 0.2262 - val_acc: 0.9583\n",
      "Epoch 41/50\n",
      "7560/7560 [==============================] - 1s 72us/step - loss: 0.0014 - acc: 0.9995 - val_loss: 0.2236 - val_acc: 0.9583\n",
      "Epoch 42/50\n",
      "7560/7560 [==============================] - 1s 75us/step - loss: 0.0016 - acc: 0.9995 - val_loss: 0.2296 - val_acc: 0.9571\n",
      "Epoch 43/50\n",
      "7560/7560 [==============================] - 1s 71us/step - loss: 0.0014 - acc: 0.9995 - val_loss: 0.2272 - val_acc: 0.9583\n",
      "Epoch 44/50\n",
      "7560/7560 [==============================] - 1s 73us/step - loss: 0.0014 - acc: 0.9995 - val_loss: 0.2284 - val_acc: 0.9595\n",
      "Epoch 45/50\n",
      "7560/7560 [==============================] - 1s 75us/step - loss: 0.0014 - acc: 0.9995 - val_loss: 0.2283 - val_acc: 0.9595\n",
      "Epoch 46/50\n",
      "7560/7560 [==============================] - 1s 74us/step - loss: 0.0014 - acc: 0.9995 - val_loss: 0.2288 - val_acc: 0.9583\n",
      "Epoch 47/50\n",
      "7560/7560 [==============================] - 1s 80us/step - loss: 0.0014 - acc: 0.9995 - val_loss: 0.2281 - val_acc: 0.9571\n",
      "Epoch 48/50\n",
      "7560/7560 [==============================] - 1s 71us/step - loss: 0.0014 - acc: 0.9995 - val_loss: 0.2285 - val_acc: 0.9583\n",
      "Epoch 49/50\n",
      "7560/7560 [==============================] - 1s 75us/step - loss: 0.0014 - acc: 0.9995 - val_loss: 0.2283 - val_acc: 0.9595\n",
      "Epoch 50/50\n",
      "7560/7560 [==============================] - 1s 79us/step - loss: 0.0014 - acc: 0.9995 - val_loss: 0.2290 - val_acc: 0.9595\n",
      "Finished training.\n",
      "Training duration in (/Hours/Minutes/Seconds/Milliseconds): 0:00:28.552323\n"
     ]
    }
   ],
   "source": [
    "import datetime\n",
    "\n",
    "tstart = datetime.datetime.now()\n",
    "if classicML:\n",
    "    pipeline.fit(X, y)\n",
    "else:\n",
    "    X = pipeline.fit_transform(X, y)\n",
    "    history = classifier.fit(X, y, batch_size = 128, epochs = 50, verbose = 1, validation_split=0.1)\n",
    "\n",
    "tstop = datetime.datetime.now()\n",
    "tdelta = tstop - tstart\n",
    "print(\"Finished training.\")\n",
    "print(\"Training duration in (/Hours/Minutes/Seconds/Milliseconds): {0}\".format(tdelta))\n"
   ]
  },
  {
   "cell_type": "markdown",
   "metadata": {},
   "source": [
    "Then we train our model"
   ]
  },
  {
   "cell_type": "code",
   "execution_count": 10,
   "metadata": {},
   "outputs": [
    {
     "data": {
      "text/plain": [
       "<matplotlib.legend.Legend at 0x7f82d9b54198>"
      ]
     },
     "execution_count": 10,
     "metadata": {},
     "output_type": "execute_result"
    },
    {
     "data": {
      "image/png": "[encoded data removed]",
      "text/plain": [
       "<matplotlib.figure.Figure at 0x7f829b734940>"
      ]
     },
     "metadata": {},
     "output_type": "display_data"
    }
   ],
   "source": [
    "#If you want to visualize the xgboost decision tree..\n",
    "#clf = pipeline.steps[1]\n",
    "#graph = xgb.to_graphviz(clf[1])\n",
    "#graph.render('pipelinetree')\n",
    "\n",
    "#If you want to visualize the deep learning classifier\n",
    "history.history.keys()\n",
    "import matplotlib.pyplot as plt\n",
    "import seaborn\n",
    "history.history.keys()\n",
    "plt.plot(history.history['val_acc'])\n",
    "plt.plot(history.history['acc'])\n",
    "plt.title(\"Training accuracy\")\n",
    "plt.xlabel(\"Epochs\")\n",
    "plt.ylabel(\"Acccuracy\")\n",
    "plt.legend(['Validation accuracy', 'Train accuracy'])\n",
    "#seaborn.lmplot(x = history.history['Epoch'], y = history.history['val_acc'])\n"
   ]
  },
  {
   "cell_type": "markdown",
   "metadata": {},
   "source": [
    "We dont evaluate the model as this is up to the watcher, thus we save it now."
   ]
  },
  {
   "cell_type": "code",
   "execution_count": 11,
   "metadata": {},
   "outputs": [
    {
     "name": "stdout",
     "output_type": "stream",
     "text": [
      "Pipeline has been saved as pipeline.pkl\n",
      "Model has been saved as model.h5\n"
     ]
    }
   ],
   "source": [
    "from sklearn.externals import joblib\n",
    "\n",
    "if classicML:\n",
    "    joblib.dump(pipeline, \"pipeline.pkl\")\n",
    "    print(\"Pipeline has been saved as pipeline.pkl\")\n",
    "else:\n",
    "    joblib.dump(pipeline, \"pipeline.pkl\")\n",
    "    joblib.dump(history.history, \"history.pkl\")\n",
    "    print(\"Pipeline has been saved as pipeline.pkl\")\n",
    "    classifier.save('model.h5')\n",
    "    print(\"Model has been saved as model.h5\")"
   ]
  },
  {
   "cell_type": "code",
   "execution_count": null,
   "metadata": {
    "collapsed": true
   },
   "outputs": [],
   "source": []
  }
 ],
 "metadata": {
  "kernelspec": {
   "display_name": "Python 3",
   "language": "python",
   "name": "python3"
  },
  "language_info": {
   "codemirror_mode": {
    "name": "ipython",
    "version": 3
   },
   "file_extension": ".py",
   "mimetype": "text/x-python",
   "name": "python",
   "nbconvert_exporter": "python",
   "pygments_lexer": "ipython3",
   "version": "3.6.4"
  }
 },
 "nbformat": 4,
 "nbformat_minor": 2
}
