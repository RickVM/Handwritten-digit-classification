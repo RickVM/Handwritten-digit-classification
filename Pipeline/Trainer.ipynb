{
 "cells": [
  {
   "cell_type": "code",
   "execution_count": 8,
   "metadata": {},
   "outputs": [
    {
     "name": "stdout",
     "output_type": "stream",
     "text": [
      "\n",
      "\n",
      "Starting model training..\n",
      "--------------------------------------\n",
      "\n"
     ]
    }
   ],
   "source": [
    "import numpy as np\n",
    "import pandas as pd\n",
    "\n",
    "classicML = False #Used in saving process \n",
    "preprocessing = True\n",
    "\n",
    "print(\"\\n\\nStarting model training..\")\n",
    "print(\"--------------------------------------\\n\")\n",
    "train_df = pd.read_csv(\"data.csv\")\n",
    "X = train_df.iloc[:,1:]\n",
    "y = train_df.iloc[:,0]"
   ]
  },
  {
   "cell_type": "code",
   "execution_count": 9,
   "metadata": {},
   "outputs": [],
   "source": [
    "from sklearn.pipeline import Pipeline\n",
    "from sklearn.preprocessing import MinMaxScaler\n",
    "\n",
    "\n",
    "\n",
    "if classicML:\n",
    "    # XGBoost Code\n",
    "    import xgboost as xgb\n",
    "    from xgboost import XGBClassifier\n",
    "    #Default settings - Now deprecated with optimized settings. \n",
    "    #pipeline = Pipeline(steps=[('minmaxscaler', MinMaxScaler(feature_range=(0, 1), copy=True)),\n",
    "    #                            ('XgbClassifier', XGBClassifier(objective = 'multi:softmax'))\n",
    "    #                           ])\n",
    "    #Based upon random search results.\n",
    "    #Accuracy score was 91% on 20% of the training data.\n",
    "    if preprocessing:\n",
    "        pipeline = Pipeline(steps=[('minmaxscaler', MinMaxScaler(feature_range=(0, 1), copy=True)),\n",
    "                                   ('XgbClassifier', XGBClassifier(objective = 'multi:softmax',\n",
    "                                                                   gamma = 0.9,\n",
    "                                                                   learning_rate = 0.375,\n",
    "                                                                   max_depth = 9,\n",
    "                                                                   n_estimators = 9))])\n",
    "    else:\n",
    "         pipeline = Pipeline(steps=[('XgbClassifier', XGBClassifier(objective = 'multi:softmax',\n",
    "                                                                   gamma = 0.9,\n",
    "                                                                   learning_rate = 0.375,\n",
    "                                                                   max_depth = 9,\n",
    "                                                                   n_estimators = 9))])\n",
    "\n",
    "else:\n",
    "    pipeline = Pipeline(steps=[('minmaxscaler', MinMaxScaler(feature_range=(0, 1), copy=True))  ])\n",
    "\n",
    "    from keras.models import Model\n",
    "    from keras.models import Sequential\n",
    "    from keras.layers import Input, Dense\n",
    "    from keras.losses import sparse_categorical_crossentropy\n",
    "    from keras.optimizers import SGD\n",
    "    def create_model():\n",
    "        model = Sequential()\n",
    "        #units = (Input+Output)/2\n",
    "        model.add(Dense(units = (int(round(len(X.columns)+9)/2)), activation = 'relu', input_dim= len(X.columns))) \n",
    "        model.add(Dense(10, activation = 'softmax'))\n",
    "        model.compile(loss=sparse_categorical_crossentropy,\n",
    "                      optimizer='adam', metrics = ['accuracy'])\n",
    "        #SGD(lr=0.01, momentum=0.9, nesterov=True)\n",
    "        return model\n",
    "    classifier = create_model()"
   ]
  },
  {
   "cell_type": "markdown",
   "metadata": {},
   "source": [
    "By creating a pipeline we can run one line of code to pre-process our data and train our model.\n",
    "Later on this pipeline will also enable us to only need 1 line of code to pre-process and make predictions on new data.\n",
    "Hence the code will be a lot cleaner.\n",
    "\n",
    "Pipeline.steps can be called to view the all the components and parameters that make up the pipeline."
   ]
  },
  {
   "cell_type": "code",
   "execution_count": 10,
   "metadata": {
    "collapsed": true
   },
   "outputs": [],
   "source": [
    "# Random search code\n",
    "\n",
    "# X = train_df.iloc[:,1:]\n",
    "# y = train_df.iloc[:,0]\n",
    "\n",
    "# from scipy.stats import randint\n",
    "# import scipy\n",
    "# from sklearn.pipeline import Pipeline\n",
    "# from sklearn.preprocessing import MinMaxScaler\n",
    "# from sklearn.base import BaseEstimator, TransformerMixin\n",
    "# import xgboost as xgb\n",
    "# from xgboost import XGBClassifier\n",
    "# from sklearn.model_selection import RandomizedSearchCV\n",
    "\n",
    "# scaler = MinMaxScaler(feature_range=(0,1), copy=True)\n",
    "# X = scaler.fit_transform(X)\n",
    "\n",
    "# params = {'max_depth': randint(1, 10) ,\n",
    "#           'learning_rate': scipy.stats.expon(scale=0.5),\n",
    "#           'n_estimators': randint(1, 10),\n",
    "#           'gamma': scipy.stats.expon(scale=1)\n",
    "#            }\n",
    "\n",
    "\n",
    "# import datetime\n",
    "# print(\"\\n\\nStarting parameter search..\")\n",
    "# print(\"--------------------------------------\\n\")\n",
    "# tstart = datetime.datetime.now()\n",
    "# optimizer = RandomizedSearchCV(XGBClassifier(objective = 'multi:softmax'), params, n_iter = 25)\n",
    "# optimizer.fit(X, y)\n",
    "# tstop = datetime.datetime.now()\n",
    "# tdelta = tstop - tstart\n",
    "# print(\"Finished training.\")\n",
    "# print(\"Training duration in (Days/Hours/Seconds/Milliseconds): {0}\".format(tdelta)) \n",
    "# print(optimizer.score()) #0.91130952380952379\n",
    "# print(optimizer.best_params_) #{'gamma': 0.90390078036156596,\n",
    "#                               #'learning_rate': 0.37483528867120858,\n",
    "#                               #'max_depth': 9,\n",
    "#                               #'n_estimators': 9}"
   ]
  },
  {
   "cell_type": "code",
   "execution_count": 11,
   "metadata": {},
   "outputs": [
    {
     "name": "stdout",
     "output_type": "stream",
     "text": [
      "Train on 113 samples, validate on 13 samples\n",
      "Epoch 1/50\n",
      "113/113 [==============================] - 0s 2ms/step - loss: 2.3886 - acc: 0.0885 - val_loss: 2.1554 - val_acc: 0.2308\n",
      "Epoch 2/50\n",
      "113/113 [==============================] - 0s 122us/step - loss: 2.0498 - acc: 0.3805 - val_loss: 2.0325 - val_acc: 0.4615\n",
      "Epoch 3/50\n",
      "113/113 [==============================] - 0s 138us/step - loss: 1.7696 - acc: 0.6549 - val_loss: 1.9141 - val_acc: 0.6154\n",
      "Epoch 4/50\n",
      "113/113 [==============================] - 0s 198us/step - loss: 1.5246 - acc: 0.8053 - val_loss: 1.7933 - val_acc: 0.6154\n",
      "Epoch 5/50\n",
      "113/113 [==============================] - 0s 107us/step - loss: 1.3032 - acc: 0.8673 - val_loss: 1.6707 - val_acc: 0.6154\n",
      "Epoch 6/50\n",
      "113/113 [==============================] - 0s 177us/step - loss: 1.1038 - acc: 0.8938 - val_loss: 1.5495 - val_acc: 0.6154\n",
      "Epoch 7/50\n",
      "113/113 [==============================] - 0s 102us/step - loss: 0.9280 - acc: 0.9027 - val_loss: 1.4324 - val_acc: 0.6154\n",
      "Epoch 8/50\n",
      "113/113 [==============================] - 0s 95us/step - loss: 0.7781 - acc: 0.9204 - val_loss: 1.3243 - val_acc: 0.6154\n",
      "Epoch 9/50\n",
      "113/113 [==============================] - 0s 165us/step - loss: 0.6523 - acc: 0.9204 - val_loss: 1.2278 - val_acc: 0.6923\n",
      "Epoch 10/50\n",
      "113/113 [==============================] - 0s 294us/step - loss: 0.5471 - acc: 0.9558 - val_loss: 1.1428 - val_acc: 0.6923\n",
      "Epoch 11/50\n",
      "113/113 [==============================] - 0s 105us/step - loss: 0.4592 - acc: 0.9735 - val_loss: 1.0693 - val_acc: 0.6923\n",
      "Epoch 12/50\n",
      "113/113 [==============================] - 0s 98us/step - loss: 0.3854 - acc: 0.9735 - val_loss: 1.0075 - val_acc: 0.6923\n",
      "Epoch 13/50\n",
      "113/113 [==============================] - 0s 199us/step - loss: 0.3233 - acc: 0.9735 - val_loss: 0.9559 - val_acc: 0.6923\n",
      "Epoch 14/50\n",
      "113/113 [==============================] - 0s 174us/step - loss: 0.2709 - acc: 0.9912 - val_loss: 0.9143 - val_acc: 0.6923\n",
      "Epoch 15/50\n",
      "113/113 [==============================] - 0s 118us/step - loss: 0.2266 - acc: 1.0000 - val_loss: 0.8804 - val_acc: 0.6923\n",
      "Epoch 16/50\n",
      "113/113 [==============================] - 0s 121us/step - loss: 0.1895 - acc: 1.0000 - val_loss: 0.8538 - val_acc: 0.7692\n",
      "Epoch 17/50\n",
      "113/113 [==============================] - 0s 124us/step - loss: 0.1585 - acc: 1.0000 - val_loss: 0.8327 - val_acc: 0.7692\n",
      "Epoch 18/50\n",
      "113/113 [==============================] - 0s 93us/step - loss: 0.1326 - acc: 1.0000 - val_loss: 0.8175 - val_acc: 0.7692\n",
      "Epoch 19/50\n",
      "113/113 [==============================] - 0s 206us/step - loss: 0.1111 - acc: 1.0000 - val_loss: 0.8063 - val_acc: 0.7692\n",
      "Epoch 20/50\n",
      "113/113 [==============================] - 0s 97us/step - loss: 0.0934 - acc: 1.0000 - val_loss: 0.7978 - val_acc: 0.7692\n",
      "Epoch 21/50\n",
      "113/113 [==============================] - 0s 126us/step - loss: 0.0787 - acc: 1.0000 - val_loss: 0.7916 - val_acc: 0.7692\n",
      "Epoch 22/50\n",
      "113/113 [==============================] - 0s 199us/step - loss: 0.0665 - acc: 1.0000 - val_loss: 0.7875 - val_acc: 0.7692\n",
      "Epoch 23/50\n",
      "113/113 [==============================] - 0s 210us/step - loss: 0.0566 - acc: 1.0000 - val_loss: 0.7851 - val_acc: 0.7692\n",
      "Epoch 24/50\n",
      "113/113 [==============================] - 0s 115us/step - loss: 0.0484 - acc: 1.0000 - val_loss: 0.7845 - val_acc: 0.7692\n",
      "Epoch 25/50\n",
      "113/113 [==============================] - 0s 200us/step - loss: 0.0417 - acc: 1.0000 - val_loss: 0.7856 - val_acc: 0.7692\n",
      "Epoch 26/50\n",
      "113/113 [==============================] - 0s 180us/step - loss: 0.0361 - acc: 1.0000 - val_loss: 0.7879 - val_acc: 0.6923\n",
      "Epoch 27/50\n",
      "113/113 [==============================] - 0s 240us/step - loss: 0.0315 - acc: 1.0000 - val_loss: 0.7918 - val_acc: 0.6923\n",
      "Epoch 28/50\n",
      "113/113 [==============================] - 0s 129us/step - loss: 0.0277 - acc: 1.0000 - val_loss: 0.7970 - val_acc: 0.6154\n",
      "Epoch 29/50\n",
      "113/113 [==============================] - 0s 227us/step - loss: 0.0245 - acc: 1.0000 - val_loss: 0.8033 - val_acc: 0.6154\n",
      "Epoch 30/50\n",
      "113/113 [==============================] - 0s 118us/step - loss: 0.0218 - acc: 1.0000 - val_loss: 0.8102 - val_acc: 0.6154\n",
      "Epoch 31/50\n",
      "113/113 [==============================] - 0s 90us/step - loss: 0.0195 - acc: 1.0000 - val_loss: 0.8176 - val_acc: 0.6154\n",
      "Epoch 32/50\n",
      "113/113 [==============================] - 0s 211us/step - loss: 0.0176 - acc: 1.0000 - val_loss: 0.8255 - val_acc: 0.6154\n",
      "Epoch 33/50\n",
      "113/113 [==============================] - 0s 157us/step - loss: 0.0159 - acc: 1.0000 - val_loss: 0.8335 - val_acc: 0.6154\n",
      "Epoch 34/50\n",
      "113/113 [==============================] - 0s 140us/step - loss: 0.0145 - acc: 1.0000 - val_loss: 0.8415 - val_acc: 0.6154\n",
      "Epoch 35/50\n",
      "113/113 [==============================] - 0s 183us/step - loss: 0.0133 - acc: 1.0000 - val_loss: 0.8494 - val_acc: 0.6154\n",
      "Epoch 36/50\n",
      "113/113 [==============================] - 0s 212us/step - loss: 0.0122 - acc: 1.0000 - val_loss: 0.8574 - val_acc: 0.6154\n",
      "Epoch 37/50\n",
      "113/113 [==============================] - 0s 157us/step - loss: 0.0113 - acc: 1.0000 - val_loss: 0.8652 - val_acc: 0.6154\n",
      "Epoch 38/50\n",
      "113/113 [==============================] - 0s 103us/step - loss: 0.0105 - acc: 1.0000 - val_loss: 0.8726 - val_acc: 0.6154\n",
      "Epoch 39/50\n",
      "113/113 [==============================] - 0s 178us/step - loss: 0.0098 - acc: 1.0000 - val_loss: 0.8796 - val_acc: 0.6154\n",
      "Epoch 40/50\n",
      "113/113 [==============================] - 0s 108us/step - loss: 0.0091 - acc: 1.0000 - val_loss: 0.8862 - val_acc: 0.6154\n",
      "Epoch 41/50\n",
      "113/113 [==============================] - 0s 254us/step - loss: 0.0086 - acc: 1.0000 - val_loss: 0.8923 - val_acc: 0.6154\n",
      "Epoch 42/50\n",
      "113/113 [==============================] - 0s 261us/step - loss: 0.0081 - acc: 1.0000 - val_loss: 0.8979 - val_acc: 0.6154\n",
      "Epoch 43/50\n",
      "113/113 [==============================] - 0s 149us/step - loss: 0.0076 - acc: 1.0000 - val_loss: 0.9031 - val_acc: 0.6154\n",
      "Epoch 44/50\n",
      "113/113 [==============================] - 0s 320us/step - loss: 0.0072 - acc: 1.0000 - val_loss: 0.9078 - val_acc: 0.6154\n",
      "Epoch 45/50\n",
      "113/113 [==============================] - 0s 218us/step - loss: 0.0069 - acc: 1.0000 - val_loss: 0.9122 - val_acc: 0.6154\n",
      "Epoch 46/50\n",
      "113/113 [==============================] - 0s 168us/step - loss: 0.0066 - acc: 1.0000 - val_loss: 0.9162 - val_acc: 0.6154\n",
      "Epoch 47/50\n",
      "113/113 [==============================] - 0s 157us/step - loss: 0.0063 - acc: 1.0000 - val_loss: 0.9198 - val_acc: 0.6154\n",
      "Epoch 48/50\n",
      "113/113 [==============================] - 0s 81us/step - loss: 0.0060 - acc: 1.0000 - val_loss: 0.9230 - val_acc: 0.6154\n",
      "Epoch 49/50\n",
      "113/113 [==============================] - 0s 134us/step - loss: 0.0058 - acc: 1.0000 - val_loss: 0.9259 - val_acc: 0.6154\n",
      "Epoch 50/50\n",
      "113/113 [==============================] - 0s 75us/step - loss: 0.0055 - acc: 1.0000 - val_loss: 0.9286 - val_acc: 0.6154\n",
      "Finished training.\n",
      "Training duration in (/Hours/Minutes/Seconds/Milliseconds): 0:00:01.355778\n"
     ]
    }
   ],
   "source": [
    "import datetime\n",
    "\n",
    "tstart = datetime.datetime.now()\n",
    "if classicML:\n",
    "    pipeline.fit(X, y)\n",
    "else:\n",
    "    if preprocessing:\n",
    "        X = pipeline.fit_transform(X, y)\n",
    "    val_split = 0.1\n",
    "    history = classifier.fit(X, y, batch_size = 128, epochs = 50, verbose = 1, validation_split=val_split)\n",
    "\n",
    "tstop = datetime.datetime.now()\n",
    "tdelta = tstop - tstart\n",
    "print(\"Finished training.\")\n",
    "print(\"Training duration in (/Hours/Minutes/Seconds/Milliseconds): {0}\".format(tdelta))\n"
   ]
  },
  {
   "cell_type": "markdown",
   "metadata": {},
   "source": [
    "Then we train our model"
   ]
  },
  {
   "cell_type": "code",
   "execution_count": 14,
   "metadata": {},
   "outputs": [
    {
     "data": {
      "image/png": "[encoded data removed]",
      "text/plain": [
       "<matplotlib.figure.Figure at 0x7ff0b40d3ef0>"
      ]
     },
     "metadata": {},
     "output_type": "display_data"
    }
   ],
   "source": [
    "if classicML:\n",
    "    #If you want to visualize the xgboost decision tree..\n",
    "    clf = pipeline.steps[1]\n",
    "    graph = xgb.to_graphviz(clf[1])\n",
    "    graph.render('pipelinetree')\n",
    "else:\n",
    "    #If you want to visualize the deep learning classifier\n",
    "    history.history.keys()\n",
    "    import matplotlib.pyplot as plt\n",
    "    import seaborn\n",
    "    history.history.keys()\n",
    "    plt.plot(history.history['acc'])\n",
    "    plt.plot(history.history['val_acc'])\n",
    "    plt.title(\"Training accuracy\")\n",
    "    plt.xlabel(\"Epochs\")\n",
    "    plt.ylabel(\"Acccuracy\")\n",
    "    plt.legend(['Train accuracy', 'Validation accuracy'])\n",
    "    plt.savefig(\"train_plot\")"
   ]
  },
  {
   "cell_type": "code",
   "execution_count": 15,
   "metadata": {
    "collapsed": true
   },
   "outputs": [],
   "source": [
    "if classicML:\n",
    "    trainSize = len(train_df['pixel0'])\n",
    "else:\n",
    "    trainSize = len(train_df['pixel0']) * (1 - val_split)\n",
    "    valSize = trainSize * val_split #Not used atm, but perhaps we want it later on.\n",
    "    \n",
    "Trainlog = {\"TrainSize\":trainSize, \"Time\":tdelta.total_seconds()}\n",
    "def log_training():\n",
    "    df = pd.DataFrame.from_dict(Trainlog, orient = 'Index')\n",
    "    df.to_excel(\"train_log.xlsx\")\n",
    "log_training()"
   ]
  },
  {
   "cell_type": "markdown",
   "metadata": {},
   "source": [
    "We dont evaluate the model as this is up to the watcher, thus we save it now."
   ]
  },
  {
   "cell_type": "code",
   "execution_count": 11,
   "metadata": {},
   "outputs": [
    {
     "name": "stdout",
     "output_type": "stream",
     "text": [
      "Pipeline has been saved as pipeline.pkl\n",
      "Model has been saved as model.h5\n"
     ]
    }
   ],
   "source": [
    "from sklearn.externals import joblib\n",
    "\n",
    "if classicML:\n",
    "    joblib.dump(pipeline, \"pipeline.pkl\")\n",
    "    print(\"Pipeline has been saved as pipeline.pkl\")\n",
    "else:\n",
    "    joblib.dump(pipeline, \"pipeline.pkl\")\n",
    "    print(\"Pipeline has been saved as pipeline.pkl\")\n",
    "    classifier.save('model.h5')\n",
    "    print(\"Model has been saved as model.h5\")"
   ]
  },
  {
   "cell_type": "code",
   "execution_count": 16,
   "metadata": {},
   "outputs": [
    {
     "data": {
      "text/plain": [
       "11538.9"
      ]
     },
     "execution_count": 16,
     "metadata": {},
     "output_type": "execute_result"
    }
   ],
   "source": [
    "trainSize"
   ]
  },
  {
   "cell_type": "code",
   "execution_count": null,
   "metadata": {
    "collapsed": true
   },
   "outputs": [],
   "source": []
  }
 ],
 "metadata": {
  "kernelspec": {
   "display_name": "Python 3",
   "language": "python",
   "name": "python3"
  },
  "language_info": {
   "codemirror_mode": {
    "name": "ipython",
    "version": 3
   },
   "file_extension": ".py",
   "mimetype": "text/x-python",
   "name": "python",
   "nbconvert_exporter": "python",
   "pygments_lexer": "ipython3",
   "version": "3.6.4"
  }
 },
 "nbformat": 4,
 "nbformat_minor": 2
}
