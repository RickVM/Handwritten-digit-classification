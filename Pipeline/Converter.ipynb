{
 "cells": [
  {
   "cell_type": "code",
   "execution_count": 12,
   "metadata": {
    "scrolled": false
   },
   "outputs": [
    {
     "name": "stdout",
     "output_type": "stream",
     "text": [
      "\n",
      "Found: Converter.ipynb\n",
      "[NbConvertApp] Converting notebook Converter.ipynb to script\n",
      "[NbConvertApp] Writing 277 bytes to Converter.py\n",
      "\n",
      "Found: Deployer.ipynb\n",
      "[NbConvertApp] Converting notebook Deployer.ipynb to script\n",
      "[NbConvertApp] Writing 453 bytes to Deployer.py\n",
      "\n",
      "Found: Simulator.ipynb\n",
      "[NbConvertApp] Converting notebook Simulator.ipynb to script\n",
      "[NbConvertApp] Writing 1975 bytes to Simulator.py\n",
      "\n",
      "Found: Trainer.ipynb\n",
      "[NbConvertApp] Converting notebook Trainer.ipynb to script\n",
      "[NbConvertApp] Writing 4758 bytes to Trainer.py\n",
      "\n",
      "Found: Watcher.ipynb\n",
      "[NbConvertApp] Converting notebook Watcher.ipynb to script\n",
      "[NbConvertApp] Writing 2304 bytes to Watcher.py\n",
      "\n",
      "Found: Production/Application.ipynb\n",
      "[NbConvertApp] Converting notebook Production/Application.ipynb to script\n",
      "[NbConvertApp] Writing 1321 bytes to Production/Application.py\n"
     ]
    }
   ],
   "source": [
    "import os\n",
    "import glob\n",
    "from pathlib import Path\n",
    "\n",
    "for file in (Path('.').glob(\"**/*.ipynb\")):\n",
    "    if(file.name.find(\"checkpoint\") == -1):\n",
    "        print(\"\\nFound: {0}\".format(file))\n",
    "        !jupyter nbconvert --to script $file\n"
   ]
  },
  {
   "cell_type": "code",
   "execution_count": null,
   "metadata": {
    "collapsed": true
   },
   "outputs": [],
   "source": []
  },
  {
   "cell_type": "code",
   "execution_count": null,
   "metadata": {
    "collapsed": true
   },
   "outputs": [],
   "source": []
  }
 ],
 "metadata": {
  "kernelspec": {
   "display_name": "Python 3",
   "language": "python",
   "name": "python3"
  },
  "language_info": {
   "codemirror_mode": {
    "name": "ipython",
    "version": 3
   },
   "file_extension": ".py",
   "mimetype": "text/x-python",
   "name": "python",
   "nbconvert_exporter": "python",
   "pygments_lexer": "ipython3",
   "version": "3.6.4"
  }
 },
 "nbformat": 4,
 "nbformat_minor": 2
}
