{
 "cells": [
  {
   "cell_type": "markdown",
   "metadata": {},
   "source": [
    "This simulator has 2 functions:\n",
    "1. It splits the training and test data used by the programs.\n",
    "2. It executes the pipeline and runs the production application once."
   ]
  },
  {
   "cell_type": "markdown",
   "metadata": {},
   "source": [
    "Step 1. Split training and test data"
   ]
  },
  {
   "cell_type": "code",
   "execution_count": 2,
   "metadata": {
    "collapsed": true
   },
   "outputs": [],
   "source": [
    "import pandas as pd\n",
    "import numpy as np\n",
    "\n",
    "def splitData(Trainsize, Testsize):\n",
    "    #if (float(Trainsize) + Testsize) > 1:\n",
    "        #raise NameError('Trainsize + Testsize can not be bigger than 1!')\n",
    "    #Enter data\n",
    "    count = 42000\n",
    "    trainsize = Trainsize #As percentage. Example: 25% should be entered as 0.25\n",
    "    testsize = Testsize #As percentage.\n",
    "\n",
    "    trainsize = int(count*trainsize) \n",
    "    testsize = int(count*testsize)\n",
    "    print(\"Train size is {0}\".format(trainsize))\n",
    "    print(\"Test size is {0}\".format(testsize))\n",
    "\n",
    "    df = pd.read_csv(\"../Train.csv\")\n",
    "\n",
    "    test_df = df.iloc[count-testsize:,:]\n",
    "    train_df = df.iloc[:trainsize,:]\n",
    "\n",
    "    train_df.to_csv(\"data.csv\", index = False)\n",
    "    test_df.to_csv(\"test_data.csv\", index = False)\n",
    "    print(\"Data has been split and saved as data.csv and test_data.csv\")"
   ]
  },
  {
   "cell_type": "markdown",
   "metadata": {},
   "source": [
    "Step 2. Execute pipeline and run the production application."
   ]
  },
  {
   "cell_type": "code",
   "execution_count": 3,
   "metadata": {
    "collapsed": true
   },
   "outputs": [],
   "source": [
    "import os\n",
    "\n",
    "def runPipeline():\n",
    "    print(\"\\nStarting trainer\")\n",
    "    os.system(\"python Trainer.py\")\n",
    "\n",
    "    print(\"\\nExecuting watcher\")\n",
    "    if(os.system(\"python Watcher.py\") == 0):\n",
    "        print(\"\\nExecuting deployer\")\n",
    "        if(os.system(\"python Deployer.py\") == 0):\n",
    "            print(\"Deployment succesfull.\")\n",
    "            print(\"Running application test\")\n",
    "            #os.system(\"python ./Production/Application.py\")\n",
    "        else:\n",
    "            print(\"Deployment failed.\")\n",
    "    else:\n",
    "        print(\"Model did not pass the test, aborting.\")"
   ]
  },
  {
   "cell_type": "code",
   "execution_count": 5,
   "metadata": {
    "scrolled": true
   },
   "outputs": [
    {
     "name": "stdout",
     "output_type": "stream",
     "text": [
      "Train size is 33600\n",
      "Test size is 8400\n",
      "Data has been split and saved as data.csv and test_data.csv\n",
      "\n",
      "Starting trainer\n",
      "\n",
      "Executing watcher\n",
      "Model did not pass the test, aborting.\n"
     ]
    }
   ],
   "source": [
    "def frange(start, stop, step):\n",
    "    i = start\n",
    "    while i <= stop:\n",
    "        yield i\n",
    "        i+=step\n",
    "    \n",
    "#0.001, 0.003, 0.005, 0.011, 0.02, 0.1, 0.2, 0.4, 0.6,\n",
    "for i in [0.8]:\n",
    "    splitData(i, 0.2)\n",
    "    runPipeline()\n",
    "\n",
    "#Run once more for final performance without test set\n",
    "#splitData(1, 0)\n",
    "#runPipeline()"
   ]
  },
  {
   "cell_type": "code",
   "execution_count": null,
   "metadata": {
    "collapsed": true
   },
   "outputs": [],
   "source": [
    "print(\"Hi\")"
   ]
  },
  {
   "cell_type": "code",
   "execution_count": null,
   "metadata": {
    "collapsed": true
   },
   "outputs": [],
   "source": []
  }
 ],
 "metadata": {
  "kernelspec": {
   "display_name": "Python 3",
   "language": "python",
   "name": "python3"
  },
  "language_info": {
   "codemirror_mode": {
    "name": "ipython",
    "version": 3
   },
   "file_extension": ".py",
   "mimetype": "text/x-python",
   "name": "python",
   "nbconvert_exporter": "python",
   "pygments_lexer": "ipython3",
   "version": "3.6.4"
  }
 },
 "nbformat": 4,
 "nbformat_minor": 2
}
